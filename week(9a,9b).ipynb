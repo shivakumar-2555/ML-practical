{
 "cells": [
  {
   "cell_type": "code",
   "execution_count": 3,
   "id": "08ebc670-f55d-42d1-86d8-6b4c9d3e9bca",
   "metadata": {},
   "outputs": [
    {
     "name": "stdout",
     "output_type": "stream",
     "text": [
      "Standardized data:\n",
      "[[-1.22474487 -1.22474487 -1.22474487]\n",
      " [ 0.          0.          0.        ]\n",
      " [ 1.22474487  1.22474487  1.22474487]]\n",
      "Covariance matrix:\n",
      "[[1.5 1.5 1.5]\n",
      " [1.5 1.5 1.5]\n",
      " [1.5 1.5 1.5]]\n",
      "Eigenvalues:\n",
      "[ 4.50000000e+00 -8.02577045e-18  3.08148791e-32]\n",
      "Eigenvectors:\n",
      "[[ 5.77350269e-01 -1.81919449e-01  6.86994728e-16]\n",
      " [ 5.77350269e-01 -5.98372551e-01 -7.07106781e-01]\n",
      " [ 5.77350269e-01  7.80292000e-01  7.07106781e-01]]\n",
      "Projected data:\n",
      "[[-2.12132034e+00  2.11167406e-17]\n",
      " [ 0.00000000e+00  0.00000000e+00]\n",
      " [ 2.12132034e+00 -2.11167406e-17]]\n",
      "Variance explained:\n",
      "1.0\n"
     ]
    }
   ],
   "source": [
    "import numpy as np\n",
    "\n",
    "def standardize(X):\n",
    "    return (X - np.mean(X, axis=0)) / np.std(X, axis=0)\n",
    "\n",
    "def compute_covariance_matrix(X):\n",
    "    return np.cov(X.T)\n",
    "\n",
    "def find_eigenvectors_and_eigenvalues(X):\n",
    "    cov_matrix = compute_covariance_matrix(X)\n",
    "    eigenvalues, eigenvectors = np.linalg.eig(cov_matrix)\n",
    "    return eigenvalues, eigenvectors\n",
    "\n",
    "def project_data(X, eigenvectors, k):\n",
    "    sorted_indices = np.argsort(-eigenvalues)[:k]\n",
    "    sorted_eigenvectors = eigenvectors[:, sorted_indices]\n",
    "    return np.dot(X, sorted_eigenvectors)\n",
    "\n",
    "def get_variance_explained(eigenvalues, k):\n",
    "    return sum(eigenvalues[:k]) / sum(eigenvalues)\n",
    "\n",
    "X = np.array([[1, 2, 3], [4, 5, 6], [7, 8, 9]])\n",
    "X_std = standardize(X)\n",
    "eigenvalues, eigenvectors = find_eigenvectors_and_eigenvalues(X_std)\n",
    "projected_data = project_data(X_std, eigenvectors, 2)\n",
    "variance_explained = get_variance_explained(eigenvalues, 2)\n",
    "\n",
    "print(\"Standardized data:\")\n",
    "print(X_std)\n",
    "print(\"Covariance matrix:\")\n",
    "print(compute_covariance_matrix(X_std))\n",
    "print(\"Eigenvalues:\")\n",
    "print(eigenvalues)\n",
    "print(\"Eigenvectors:\")\n",
    "print(eigenvectors)\n",
    "print(\"Projected data:\")\n",
    "print(projected_data)\n",
    "print(\"Variance explained:\")\n",
    "print(variance_explained)\n"
   ]
  },
  {
   "cell_type": "code",
   "execution_count": 9,
   "id": "cd64ebed-c502-4367-ac64-bb8b92451ba6",
   "metadata": {},
   "outputs": [
    {
     "ename": "SyntaxError",
     "evalue": "unmatched ']' (3632303104.py, line 6)",
     "output_type": "error",
     "traceback": [
      "\u001b[1;36m  Cell \u001b[1;32mIn[9], line 6\u001b[1;36m\u001b[0m\n\u001b[1;33m    ])\u001b[0m\n\u001b[1;37m    ^\u001b[0m\n\u001b[1;31mSyntaxError\u001b[0m\u001b[1;31m:\u001b[0m unmatched ']'\n"
     ]
    }
   ],
   "source": [
    "import numpy as np # Predefined dataset dataset = np.array([\n",
    "[1, 2, 3],\n",
    "[4, 5, 6],\n",
    "[7, 8, 9],\n",
    "[10, 11, 12]\n",
    "])\n",
    "# Calculate the covariance matrix\n",
    "covariance_matrix = np.cov(dataset, rowvar=False)\n",
    "Print the covariance matrix print(\"Covariance Matrix:\") print(covariance_matrix)\n"
   ]
  },
  {
   "cell_type": "code",
   "execution_count": null,
   "id": "497ba812-2e29-40ef-bd66-df95979cc603",
   "metadata": {},
   "outputs": [],
   "source": []
  }
 ],
 "metadata": {
  "kernelspec": {
   "display_name": "Python [conda env:base] *",
   "language": "python",
   "name": "conda-base-py"
  },
  "language_info": {
   "codemirror_mode": {
    "name": "ipython",
    "version": 3
   },
   "file_extension": ".py",
   "mimetype": "text/x-python",
   "name": "python",
   "nbconvert_exporter": "python",
   "pygments_lexer": "ipython3",
   "version": "3.12.7"
  }
 },
 "nbformat": 4,
 "nbformat_minor": 5
}
